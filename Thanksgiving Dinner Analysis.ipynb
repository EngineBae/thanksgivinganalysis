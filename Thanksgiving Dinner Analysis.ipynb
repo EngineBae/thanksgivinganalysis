{
 "cells": [
  {
   "cell_type": "code",
   "execution_count": 1,
   "metadata": {
    "scrolled": true
   },
   "outputs": [
    {
     "name": "stdout",
     "output_type": "stream",
     "text": [
      "   RespondentID Do you celebrate Thanksgiving?  \\\n",
      "0    4337954960                            Yes   \n",
      "1    4337951949                            Yes   \n",
      "2    4337935621                            Yes   \n",
      "3    4337933040                            Yes   \n",
      "4    4337931983                            Yes   \n",
      "\n",
      "  What is typically the main dish at your Thanksgiving dinner?  \\\n",
      "0                                             Turkey             \n",
      "1                                             Turkey             \n",
      "2                                             Turkey             \n",
      "3                                             Turkey             \n",
      "4                                           Tofurkey             \n",
      "\n",
      "  What is typically the main dish at your Thanksgiving dinner? - Other (please specify)  \\\n",
      "0                                                NaN                                      \n",
      "1                                                NaN                                      \n",
      "2                                                NaN                                      \n",
      "3                                                NaN                                      \n",
      "4                                                NaN                                      \n",
      "\n",
      "  How is the main dish typically cooked?  \\\n",
      "0                                  Baked   \n",
      "1                                  Baked   \n",
      "2                                Roasted   \n",
      "3                                  Baked   \n",
      "4                                  Baked   \n",
      "\n",
      "  How is the main dish typically cooked? - Other (please specify)  \\\n",
      "0                                                NaN                \n",
      "1                                                NaN                \n",
      "2                                                NaN                \n",
      "3                                                NaN                \n",
      "4                                                NaN                \n",
      "\n",
      "  What kind of stuffing/dressing do you typically have?  \\\n",
      "0                                        Bread-based      \n",
      "1                                        Bread-based      \n",
      "2                                         Rice-based      \n",
      "3                                        Bread-based      \n",
      "4                                        Bread-based      \n",
      "\n",
      "  What kind of stuffing/dressing do you typically have? - Other (please specify)  \\\n",
      "0                                                NaN                               \n",
      "1                                                NaN                               \n",
      "2                                                NaN                               \n",
      "3                                                NaN                               \n",
      "4                                                NaN                               \n",
      "\n",
      "  What type of cranberry saucedo you typically have?  \\\n",
      "0                                               None   \n",
      "1                             Other (please specify)   \n",
      "2                                           Homemade   \n",
      "3                                           Homemade   \n",
      "4                                             Canned   \n",
      "\n",
      "  What type of cranberry saucedo you typically have? - Other (please specify)  \\\n",
      "0                                                NaN                            \n",
      "1                    Homemade cranberry gelatin ring                            \n",
      "2                                                NaN                            \n",
      "3                                                NaN                            \n",
      "4                                                NaN                            \n",
      "\n",
      "          ...          \\\n",
      "0         ...           \n",
      "1         ...           \n",
      "2         ...           \n",
      "3         ...           \n",
      "4         ...           \n",
      "\n",
      "  Have you ever tried to meet up with hometown friends on Thanksgiving night?  \\\n",
      "0                                                Yes                            \n",
      "1                                                 No                            \n",
      "2                                                Yes                            \n",
      "3                                                Yes                            \n",
      "4                                                Yes                            \n",
      "\n",
      "  Have you ever attended a \"Friendsgiving?\"  \\\n",
      "0                                        No   \n",
      "1                                        No   \n",
      "2                                       Yes   \n",
      "3                                        No   \n",
      "4                                        No   \n",
      "\n",
      "  Will you shop any Black Friday sales on Thanksgiving Day?  \\\n",
      "0                                                 No          \n",
      "1                                                Yes          \n",
      "2                                                Yes          \n",
      "3                                                 No          \n",
      "4                                                 No          \n",
      "\n",
      "  Do you work in retail? Will you employer make you work on Black Friday?  \\\n",
      "0                     No                                              NaN   \n",
      "1                     No                                              NaN   \n",
      "2                     No                                              NaN   \n",
      "3                     No                                              NaN   \n",
      "4                     No                                              NaN   \n",
      "\n",
      "  How would you describe where you live?      Age What is your gender?  \\\n",
      "0                               Suburban  18 - 29                 Male   \n",
      "1                                  Rural  18 - 29               Female   \n",
      "2                               Suburban  18 - 29                 Male   \n",
      "3                                  Urban  30 - 44                 Male   \n",
      "4                                  Urban  30 - 44                 Male   \n",
      "\n",
      "  How much total combined money did all members of your HOUSEHOLD earn last year?  \\\n",
      "0                                 $75,000 to $99,999                                \n",
      "1                                 $50,000 to $74,999                                \n",
      "2                                       $0 to $9,999                                \n",
      "3                                    $200,000 and up                                \n",
      "4                               $100,000 to $124,999                                \n",
      "\n",
      "            US Region  \n",
      "0     Middle Atlantic  \n",
      "1  East South Central  \n",
      "2            Mountain  \n",
      "3             Pacific  \n",
      "4             Pacific  \n",
      "\n",
      "[5 rows x 65 columns]\n"
     ]
    }
   ],
   "source": [
    "%matplotlib inline\n",
    "#importing necessary libraries\n",
    "import seaborn as sns\n",
    "import pandas as pd\n",
    "import numpy as np\n",
    "import matplotlib.pyplot as plt\n",
    "\n",
    "data = pd.read_csv(\"thanksgiving.csv\", encoding=\"Latin-1\")\n",
    "print(data.head())"
   ]
  },
  {
   "cell_type": "code",
   "execution_count": 2,
   "metadata": {},
   "outputs": [
    {
     "data": {
      "text/plain": [
       "Index(['RespondentID', 'Do you celebrate Thanksgiving?',\n",
       "       'What is typically the main dish at your Thanksgiving dinner?',\n",
       "       'What is typically the main dish at your Thanksgiving dinner? - Other (please specify)',\n",
       "       'How is the main dish typically cooked?',\n",
       "       'How is the main dish typically cooked? - Other (please specify)',\n",
       "       'What kind of stuffing/dressing do you typically have?',\n",
       "       'What kind of stuffing/dressing do you typically have? - Other (please specify)',\n",
       "       'What type of cranberry saucedo you typically have?',\n",
       "       'What type of cranberry saucedo you typically have? - Other (please specify)',\n",
       "       'Do you typically have gravy?',\n",
       "       'Which of these side dishes aretypically served at your Thanksgiving dinner? Please select all that apply. - Brussel sprouts',\n",
       "       'Which of these side dishes aretypically served at your Thanksgiving dinner? Please select all that apply. - Carrots',\n",
       "       'Which of these side dishes aretypically served at your Thanksgiving dinner? Please select all that apply. - Cauliflower',\n",
       "       'Which of these side dishes aretypically served at your Thanksgiving dinner? Please select all that apply. - Corn',\n",
       "       'Which of these side dishes aretypically served at your Thanksgiving dinner? Please select all that apply. - Cornbread',\n",
       "       'Which of these side dishes aretypically served at your Thanksgiving dinner? Please select all that apply. - Fruit salad',\n",
       "       'Which of these side dishes aretypically served at your Thanksgiving dinner? Please select all that apply. - Green beans/green bean casserole',\n",
       "       'Which of these side dishes aretypically served at your Thanksgiving dinner? Please select all that apply. - Macaroni and cheese',\n",
       "       'Which of these side dishes aretypically served at your Thanksgiving dinner? Please select all that apply. - Mashed potatoes',\n",
       "       'Which of these side dishes aretypically served at your Thanksgiving dinner? Please select all that apply. - Rolls/biscuits',\n",
       "       'Which of these side dishes aretypically served at your Thanksgiving dinner? Please select all that apply. - Squash',\n",
       "       'Which of these side dishes aretypically served at your Thanksgiving dinner? Please select all that apply. - Vegetable salad',\n",
       "       'Which of these side dishes aretypically served at your Thanksgiving dinner? Please select all that apply. - Yams/sweet potato casserole',\n",
       "       'Which of these side dishes aretypically served at your Thanksgiving dinner? Please select all that apply. - Other (please specify)',\n",
       "       'Which of these side dishes aretypically served at your Thanksgiving dinner? Please select all that apply. - Other (please specify).1',\n",
       "       'Which type of pie is typically served at your Thanksgiving dinner? Please select all that apply. - Apple',\n",
       "       'Which type of pie is typically served at your Thanksgiving dinner? Please select all that apply. - Buttermilk',\n",
       "       'Which type of pie is typically served at your Thanksgiving dinner? Please select all that apply. - Cherry',\n",
       "       'Which type of pie is typically served at your Thanksgiving dinner? Please select all that apply. - Chocolate',\n",
       "       'Which type of pie is typically served at your Thanksgiving dinner? Please select all that apply. - Coconut cream',\n",
       "       'Which type of pie is typically served at your Thanksgiving dinner? Please select all that apply. - Key lime',\n",
       "       'Which type of pie is typically served at your Thanksgiving dinner? Please select all that apply. - Peach',\n",
       "       'Which type of pie is typically served at your Thanksgiving dinner? Please select all that apply. - Pecan',\n",
       "       'Which type of pie is typically served at your Thanksgiving dinner? Please select all that apply. - Pumpkin',\n",
       "       'Which type of pie is typically served at your Thanksgiving dinner? Please select all that apply. - Sweet Potato',\n",
       "       'Which type of pie is typically served at your Thanksgiving dinner? Please select all that apply. - None',\n",
       "       'Which type of pie is typically served at your Thanksgiving dinner? Please select all that apply. - Other (please specify)',\n",
       "       'Which type of pie is typically served at your Thanksgiving dinner? Please select all that apply. - Other (please specify).1',\n",
       "       'Which of these desserts do you typically have at Thanksgiving dinner? Please select all that apply.   - Apple cobbler',\n",
       "       'Which of these desserts do you typically have at Thanksgiving dinner? Please select all that apply.   - Blondies',\n",
       "       'Which of these desserts do you typically have at Thanksgiving dinner? Please select all that apply.   - Brownies',\n",
       "       'Which of these desserts do you typically have at Thanksgiving dinner? Please select all that apply.   - Carrot cake',\n",
       "       'Which of these desserts do you typically have at Thanksgiving dinner? Please select all that apply.   - Cheesecake',\n",
       "       'Which of these desserts do you typically have at Thanksgiving dinner? Please select all that apply.   - Cookies',\n",
       "       'Which of these desserts do you typically have at Thanksgiving dinner? Please select all that apply.   - Fudge',\n",
       "       'Which of these desserts do you typically have at Thanksgiving dinner? Please select all that apply.   - Ice cream',\n",
       "       'Which of these desserts do you typically have at Thanksgiving dinner? Please select all that apply.   - Peach cobbler',\n",
       "       'Which of these desserts do you typically have at Thanksgiving dinner? Please select all that apply.   - None',\n",
       "       'Which of these desserts do you typically have at Thanksgiving dinner? Please select all that apply.   - Other (please specify)',\n",
       "       'Which of these desserts do you typically have at Thanksgiving dinner? Please select all that apply.   - Other (please specify).1',\n",
       "       'Do you typically pray before or after the Thanksgiving meal?',\n",
       "       'How far will you travel for Thanksgiving?',\n",
       "       'Will you watch any of the following programs on Thanksgiving? Please select all that apply. - Macy's Parade',\n",
       "       'What's the age cutoff at your \"kids' table\" at Thanksgiving?',\n",
       "       'Have you ever tried to meet up with hometown friends on Thanksgiving night?',\n",
       "       'Have you ever attended a \"Friendsgiving?\"',\n",
       "       'Will you shop any Black Friday sales on Thanksgiving Day?',\n",
       "       'Do you work in retail?',\n",
       "       'Will you employer make you work on Black Friday?',\n",
       "       'How would you describe where you live?', 'Age', 'What is your gender?',\n",
       "       'How much total combined money did all members of your HOUSEHOLD earn last year?',\n",
       "       'US Region'],\n",
       "      dtype='object')"
      ]
     },
     "execution_count": 2,
     "metadata": {},
     "output_type": "execute_result"
    }
   ],
   "source": [
    "#examining different columns in the dataset\n",
    "data.columns"
   ]
  },
  {
   "cell_type": "code",
   "execution_count": 3,
   "metadata": {},
   "outputs": [
    {
     "data": {
      "text/plain": [
       "Yes    980\n",
       "No      78\n",
       "Name: Do you celebrate Thanksgiving?, dtype: int64"
      ]
     },
     "execution_count": 3,
     "metadata": {},
     "output_type": "execute_result"
    }
   ],
   "source": [
    "data[\"Do you celebrate Thanksgiving?\"].value_counts()"
   ]
  },
  {
   "cell_type": "markdown",
   "metadata": {},
   "source": [
    "Since we're trying to analyze data on Thanksgiving, we'll narrow down the dataset to respondents who celebrated Thanksgiving."
   ]
  },
  {
   "cell_type": "code",
   "execution_count": 4,
   "metadata": {},
   "outputs": [
    {
     "name": "stdout",
     "output_type": "stream",
     "text": [
      "Yes    980\n",
      "Name: Do you celebrate Thanksgiving?, dtype: int64\n"
     ]
    }
   ],
   "source": [
    "#Only keeping data on people who celebrate Thanksgiving.\n",
    "\n",
    "data = data[data[\"Do you celebrate Thanksgiving?\"] == \"Yes\"]\n",
    "print(data[\"Do you celebrate Thanksgiving?\"].value_counts())"
   ]
  },
  {
   "cell_type": "code",
   "execution_count": 5,
   "metadata": {},
   "outputs": [
    {
     "data": {
      "text/plain": [
       "Turkey                    859\n",
       "Other (please specify)     35\n",
       "Ham/Pork                   29\n",
       "Tofurkey                   20\n",
       "Chicken                    12\n",
       "Roast beef                 11\n",
       "I don't know                5\n",
       "Turducken                   3\n",
       "Name: What is typically the main dish at your Thanksgiving dinner?, dtype: int64"
      ]
     },
     "execution_count": 5,
     "metadata": {},
     "output_type": "execute_result"
    }
   ],
   "source": [
    "#What dishes do people tend to eat during Thanksgiving?\n",
    "\n",
    "data[\"What is typically the main dish at your Thanksgiving dinner?\"].value_counts()"
   ]
  },
  {
   "cell_type": "markdown",
   "metadata": {},
   "source": [
    "Most of the respondents had turkey as their main dish. Some interesting dishes stand out, such as Tofurkey and Turducken. Since Tofurkey is a vegetarian dish, it would be interesting to see how many of the respondents who had Tofurkey as their main dish also had gravy in their meals."
   ]
  },
  {
   "cell_type": "code",
   "execution_count": 6,
   "metadata": {},
   "outputs": [
    {
     "data": {
      "text/plain": [
       "Yes    12\n",
       "No      8\n",
       "Name: Do you typically have gravy?, dtype: int64"
      ]
     },
     "execution_count": 6,
     "metadata": {},
     "output_type": "execute_result"
    }
   ],
   "source": [
    "Tofurkey = data[\"What is typically the main dish at your Thanksgiving dinner?\"] == \"Tofurkey\"\n",
    "data[\"Do you typically have gravy?\"][Tofurkey].value_counts()"
   ]
  },
  {
   "cell_type": "markdown",
   "metadata": {},
   "source": [
    "12 out of 20 respondents had gravy with their tofurkey. With the assumption that most gravies are not vegetrian, this seemed like an unexpected finding at first. However, it is likely that individuals who have tofurkey would also have vegetarian gravies. Unfortunately the dataset does not differentiate different kinds of gravies respodnents had.\n",
    "\n",
    "Next, we will see how many people ate Apple, Pecan or Pumpkin pie during their Thanksgiving dinner."
   ]
  },
  {
   "cell_type": "code",
   "execution_count": 7,
   "metadata": {},
   "outputs": [
    {
     "data": {
      "text/plain": [
       "False    876\n",
       "True     104\n",
       "Name: no_pies, dtype: int64"
      ]
     },
     "execution_count": 7,
     "metadata": {},
     "output_type": "execute_result"
    }
   ],
   "source": [
    "#getting serieses of boolean values from these columns\n",
    "apple_isnull = pd.isnull(data[\"Which type of pie is typically served at your Thanksgiving dinner? Please select all that apply. - Apple\"])\n",
    "pumpkin_isnull = pd.isnull(data[\"Which type of pie is typically served at your Thanksgiving dinner? Please select all that apply. - Pumpkin\"])\n",
    "pecan_isnull = pd.isnull(data[\"Which type of pie is typically served at your Thanksgiving dinner? Please select all that apply. - Pecan\"])\n",
    "#combining the variables to create a single series\n",
    "data[\"no_pies\"] = apple_isnull & pumpkin_isnull & pecan_isnull\n",
    "data[\"no_pies\"].value_counts()"
   ]
  },
  {
   "cell_type": "markdown",
   "metadata": {},
   "source": [
    "We wanted to look at how many respondents had at least one of the three pies. 'False' indicates that the respondent had at least one kind of pie. 'True' indicates the opposite. This may seem counterintuitive, but it makes sense once we take a look at the code; by using 'pd.isnull', 'True' value indicates that the respondent did not have the pie. Vast majority of respondents had either an apple pie, a pumpkin pie or a pecan pie. \n",
    "\n",
    "We will now analyze the respondents' age groups."
   ]
  },
  {
   "cell_type": "code",
   "execution_count": 8,
   "metadata": {},
   "outputs": [
    {
     "data": {
      "text/plain": [
       "45 - 59    269\n",
       "60+        258\n",
       "30 - 44    235\n",
       "18 - 29    185\n",
       "Name: Age, dtype: int64"
      ]
     },
     "execution_count": 8,
     "metadata": {},
     "output_type": "execute_result"
    }
   ],
   "source": [
    "data[\"Age\"].value_counts()"
   ]
  },
  {
   "cell_type": "markdown",
   "metadata": {},
   "source": [
    "Age is indicated by range and in strings. For our analysis, we will convert these ranges to the first age value and into integers."
   ]
  },
  {
   "cell_type": "code",
   "execution_count": 59,
   "metadata": {},
   "outputs": [
    {
     "name": "stdout",
     "output_type": "stream",
     "text": [
      "count    947.000000\n",
      "mean      40.089757\n",
      "std       15.352014\n",
      "min       18.000000\n",
      "25%       30.000000\n",
      "50%       45.000000\n",
      "75%       60.000000\n",
      "max       60.000000\n",
      "Name: int_age, dtype: float64\n"
     ]
    },
    {
     "data": {
      "text/plain": [
       "([<matplotlib.axis.XTick at 0x1f9f9390860>,\n",
       "  <matplotlib.axis.XTick at 0x1f9f92ec898>,\n",
       "  <matplotlib.axis.XTick at 0x1f9f938cdd8>,\n",
       "  <matplotlib.axis.XTick at 0x1f9f93c7860>],\n",
       " <a list of 4 Text xticklabel objects>)"
      ]
     },
     "execution_count": 59,
     "metadata": {},
     "output_type": "execute_result"
    },
    {
     "data": {
      "image/png": "[encoded data removed]",
      "text/plain": [
       "<matplotlib.figure.Figure at 0x1f9f931ee80>"
      ]
     },
     "metadata": {},
     "output_type": "display_data"
    }
   ],
   "source": [
    "#Adding a new age column and describing its data\n",
    "\n",
    "#function to convert string age range into a single integer value\n",
    "def string_to_int(series):\n",
    "    if pd.isnull(series):\n",
    "        return None\n",
    "    series = series.split(\" \")[0] #first age in age-range identified\n",
    "    series = series.replace(\"+\", \"\") #getting rid of + in 60+\n",
    "    return int(series) #value is an integer object\n",
    "\n",
    "data[\"int_age\"] = data[\"Age\"].apply(string_to_int)\n",
    "print(data[\"int_age\"].describe())\n",
    "fig, ax = plt.subplots()\n",
    "ax = plt.hist(data['Age'].dropna(), 7, rwidth=1, color='skyblue')\n",
    "#ax = data['Age'].value_counts().plot(kind='hist', title='Age Analysis', grid=False,\n",
    "                    #figsize=(8,6))\n",
    "plt.xlabel('Age')\n",
    "plt.ylabel('Number of Respondents')\n",
    "plt.title('Age Group')\n",
    "plt.xticks([0.2, 1.075, 1.925, 2.8])"
   ]
  },
  {
   "cell_type": "markdown",
   "metadata": {},
   "source": [
    "Average age of respondents is around 40 with the interquartile range falling in between 30 and 60. This closely resembles a normal distribution, but as we can see in the histogram, our methodology falls short on its accuracy. Since we have converted a broad age group to a single age, respondents have been grouped into a single age, which does not represent their real age."
   ]
  },
  {
   "cell_type": "code",
   "execution_count": 76,
   "metadata": {},
   "outputs": [
    {
     "name": "stdout",
     "output_type": "stream",
     "text": [
      "count       829.000000\n",
      "mean      75965.018094\n",
      "std       59068.636748\n",
      "min           0.000000\n",
      "25%       25000.000000\n",
      "50%       75000.000000\n",
      "75%      100000.000000\n",
      "max      200000.000000\n",
      "Name: int_income, dtype: float64\n"
     ]
    },
    {
     "data": {
      "text/plain": [
       "Text(0.5,0,'Household Income ($)')"
      ]
     },
     "execution_count": 76,
     "metadata": {},
     "output_type": "execute_result"
    },
    {
     "data": {
      "image/png": "[encoded data removed]",
      "text/plain": [
       "<matplotlib.figure.Figure at 0x1f9f9bc1080>"
      ]
     },
     "metadata": {},
     "output_type": "display_data"
    }
   ],
   "source": [
    "#Simple descriptive analysis of income distribution\n",
    "\n",
    "def income_to_int(income):\n",
    "    if pd.isnull(income) or \"Prefer\" in income:\n",
    "        return None\n",
    "    income = income.split(\" \")[0]\n",
    "    income = income.replace(\"$\", \"\")\n",
    "    income = income.replace(\",\", \"\")\n",
    "    return int(income)\n",
    "    \n",
    "data[\"int_income\"] = data[\"How much total combined money did all members of your HOUSEHOLD earn last year?\"].apply(income_to_int)\n",
    "print(data[\"int_income\"].describe())\n",
    "data['int_income'].plot(kind='hist', title='Income Analysis', grid=False, color='skyblue',\n",
    "                       figsize=(8,6))\n",
    "plt.xlim((0,200000))\n",
    "plt.xlabel('Household Income ($)')"
   ]
  },
  {
   "cell_type": "markdown",
   "metadata": {},
   "source": [
    "This analysis has similar pitfalls to the last one; income ranges were reduced to the lowest income value within each category. We can see that this series is not normally distributed. The mean and the median are close, suggesting that roughly 75,000 USD is the middle range of household income among respondents. It should be noted that a fair amount of respondents had household income that was 200,000 USD and up.\n",
    "\n",
    "We will now take a look at how many people earning 150,000 USD and under traveled for Thanksgiving."
   ]
  },
  {
   "cell_type": "code",
   "execution_count": 11,
   "metadata": {},
   "outputs": [
    {
     "name": "stdout",
     "output_type": "stream",
     "text": [
      "Thanksgiving is happening at my home--I won't travel at all                         298\n",
      "Thanksgiving is local--it will take place in the town I live in                     212\n",
      "Thanksgiving is out of town but not too far--it's a drive of a few hours or less    159\n",
      "Thanksgiving is out of town and far away--I have to drive several hours or fly       58\n",
      "Name: How far will you travel for Thanksgiving?, dtype: int64\n",
      "[0.40990371 0.29160935 0.21870702 0.07977992]\n"
     ]
    }
   ],
   "source": [
    "income_and_travel_bool = data[\"int_income\"] <= 150000\n",
    "income_and_travel = data[\"How far will you travel for Thanksgiving?\"][income_and_travel_bool]\n",
    "print(income_and_travel.value_counts())\n",
    "low_income_travel_per = income_and_travel.value_counts().values / len(income_and_travel)\n",
    "print(low_income_travel_per)"
   ]
  },
  {
   "cell_type": "code",
   "execution_count": 12,
   "metadata": {},
   "outputs": [
    {
     "name": "stdout",
     "output_type": "stream",
     "text": [
      "Thanksgiving is happening at my home--I won't travel at all                         49\n",
      "Thanksgiving is local--it will take place in the town I live in                     25\n",
      "Thanksgiving is out of town but not too far--it's a drive of a few hours or less    16\n",
      "Thanksgiving is out of town and far away--I have to drive several hours or fly      12\n",
      "Name: How far will you travel for Thanksgiving?, dtype: int64\n",
      "[0.48039216 0.24509804 0.15686275 0.11764706]\n"
     ]
    }
   ],
   "source": [
    "#How far have people earning over 150,000 USD traveled for a Thanksgivin dinner?\n",
    "\n",
    "high_income_and_travel_bool = data[\"int_income\"] > 150000\n",
    "high_income_and_travel = data[\"How far will you travel for Thanksgiving?\"][high_income_and_travel_bool]\n",
    "print(high_income_and_travel.value_counts())\n",
    "high_income_travel_per = high_income_and_travel.value_counts().values / len(high_income_and_travel)\n",
    "print(high_income_travel_per)"
   ]
  },
  {
   "cell_type": "code",
   "execution_count": 62,
   "metadata": {
    "scrolled": false
   },
   "outputs": [
    {
     "data": {
      "image/png": "[encoded data removed]",
      "text/plain": [
       "<matplotlib.figure.Figure at 0x1f9f96fa710>"
      ]
     },
     "metadata": {},
     "output_type": "display_data"
    }
   ],
   "source": [
    "#bar graphs\n",
    "plt.figure(figsize=(8,10))\n",
    "income_labels = ['Home', 'Local', 'Out of Town (Close)', \n",
    "                     'Out of Town (Far)']\n",
    "\n",
    "plt.subplot(211)\n",
    "ax1 = income_and_travel.value_counts().plot(kind='bar', color='skyblue',\n",
    "                                      title='$150,000 and Below Income Analysis')\n",
    "ax1.set_xticklabels(income_labels,rotation='horizontal')\n",
    "ax1.grid(False)\n",
    "for index, percentage in enumerate(low_income_travel_per):\n",
    "    percentage = str(round(percentage*100,1)) + \"%\"\n",
    "    if index == 3:\n",
    "        ax1.text(index-0.14, 25, percentage, color='white',\n",
    "            fontsize=16)\n",
    "    else:\n",
    "        ax1.text(index-0.18, 25, percentage, color='white',\n",
    "            fontsize=16)\n",
    "\n",
    "plt.subplot(212)\n",
    "ax2 = high_income_and_travel.value_counts().plot(kind='bar', color='skyblue',\n",
    "                                      title='Above $150,000 Income Analysis')\n",
    "ax2.set_xticklabels(income_labels,rotation='horizontal')\n",
    "ax2.grid(False)\n",
    "for index, percentage in enumerate(high_income_travel_per):\n",
    "    percentage = str(round(percentage*100,1)) + \"%\"\n",
    "    ax2.text(index-0.18, 3, percentage, color='white',\n",
    "            fontsize=16)\n",
    "\n",
    "plt.tight_layout()\n",
    "plt.show()"
   ]
  },
  {
   "cell_type": "markdown",
   "metadata": {},
   "source": [
    "Here we see that people from household income above 150,000 USD were more likely to have their Thanksgiving dinner at home or out of town far away compared to those who have household income of and below 150,000 USD. On the other hand, those with income equal to or below 150,000 USD are morelikely to celebrate Thanksgiving locally or out of town close to home.\n",
    "\n",
    "Next, we will use a pivot table to show the average age of respondents for ever meeting their hometown friends on Thanksgiving night and having attended a \"Friendsgiving\" at least once in their lifetime."
   ]
  },
  {
   "cell_type": "code",
   "execution_count": 66,
   "metadata": {},
   "outputs": [
    {
     "name": "stdout",
     "output_type": "stream",
     "text": [
      "Have you ever attended a \"Friendsgiving?\"                  No        Yes\n",
      "Have you ever tried to meet up with hometown fr...                      \n",
      "No                                                  42.283702  37.010526\n",
      "Yes                                                 41.475410  33.976744\n"
     ]
    },
    {
     "data": {
      "text/plain": [
       "<matplotlib.legend.Legend at 0x1f9f9a61390>"
      ]
     },
     "execution_count": 66,
     "metadata": {},
     "output_type": "execute_result"
    },
    {
     "data": {
      "image/png": "[encoded data removed]",
      "text/plain": [
       "<matplotlib.figure.Figure at 0x1f9f9a71f98>"
      ]
     },
     "metadata": {},
     "output_type": "display_data"
    }
   ],
   "source": [
    "table = data.pivot_table( #forming a pivot table\n",
    "    index=\"Have you ever tried to meet up with hometown friends on Thanksgiving night?\",\n",
    "    columns='Have you ever attended a \"Friendsgiving?\"',\n",
    "    values=\"int_age\")\n",
    "print(table)\n",
    "\n",
    "#plotting the pivot table\n",
    "ax1 = table.plot(kind='bar', title='Pivot Chart (Meeting Friends VS Having Friendsgiving)',\n",
    "                grid=False, rot=360, figsize=(8,5), ylim=(0,50), colormap='Set3')\n",
    "ax1.set_ylabel('Average Age')\n",
    "ax1.legend(title='Experienced \"Friendsgiving\"', loc='best', bbox_to_anchor=(1, 1))"
   ]
  },
  {
   "cell_type": "markdown",
   "metadata": {},
   "source": [
    "The average age was the highest for those who neither experienced Friendsgiving nor have ever met their hometown friends on Thanksgiving night (42.3). For those who have met their hometown friends but have not experienced Friendsgiving had the average age of 41.5, compared to those who have not met their friends but have had Friendsgiving at 37. Lastly, the average age was the lowest at 34 for those who answered yes to both questions. \n",
    "\n",
    "Next, we'll create a pivot table to find the average income using the same two questions."
   ]
  },
  {
   "cell_type": "code",
   "execution_count": 65,
   "metadata": {},
   "outputs": [
    {
     "name": "stdout",
     "output_type": "stream",
     "text": [
      "Have you ever attended a \"Friendsgiving?\"                     No           Yes\n",
      "Have you ever tried to meet up with hometown fr...                            \n",
      "No                                                  78914.549654  72894.736842\n",
      "Yes                                                 78750.000000  66019.736842\n"
     ]
    },
    {
     "data": {
      "text/plain": [
       "<matplotlib.legend.Legend at 0x1f9f99ff978>"
      ]
     },
     "execution_count": 65,
     "metadata": {},
     "output_type": "execute_result"
    },
    {
     "data": {
      "image/png": "[encoded data removed]",
      "text/plain": [
       "<matplotlib.figure.Figure at 0x1f9f9a16fd0>"
      ]
     },
     "metadata": {},
     "output_type": "display_data"
    }
   ],
   "source": [
    "income_table = data.pivot_table(\n",
    "    index=\"Have you ever tried to meet up with hometown friends on Thanksgiving night?\",\n",
    "    columns='Have you ever attended a \"Friendsgiving?\"',\n",
    "    values=\"int_income\")\n",
    "print(income_table)\n",
    "\n",
    "ax1 = income_table.plot(kind='bar', \n",
    "                        title='Pivot Chart (Meeting Friends VS Having Friendsgiving)', \n",
    "                        grid=False, rot=360, figsize=(8,5), colormap='Set3',\n",
    "                       ylim=(0,90000))\n",
    "ax1.set_ylabel('Average Income ($)')\n",
    "ax1.legend(title='Experienced \"Friendsgiving\"', loc='best', bbox_to_anchor=(1, 1))"
   ]
  },
  {
   "cell_type": "markdown",
   "metadata": {},
   "source": [
    "Pattern of the pivot chart is similar to the one above. Average income was the highest at 78,915 USD when respondents answered \"no\" to both questions. It decreased to 78,750 USD when they answered \"yes\" to having met hometown friends and to 72,895 USD when they answered \"yes\" to having experienced \"Friendsgiving\". Average income was at the lowest at 66,020 USD for respondents who answered \"yes\" to both questions. This pivot chart could have the same pattern with the previous one since older individuals are more likely to have higher income than younger individuals.\n",
    "\n",
    "Let's take a look at the top 10 desserts."
   ]
  },
  {
   "cell_type": "code",
   "execution_count": 16,
   "metadata": {
    "scrolled": true
   },
   "outputs": [
    {
     "name": "stdout",
     "output_type": "stream",
     "text": [
      "None                                                           295\n",
      "Ice cream                                                      266\n",
      "Cookies                                                        204\n",
      "Cheesecake                                                     191\n",
      "Other (please specify)                                         134\n",
      "Brownies                                                       128\n",
      "Apple cobbler                                                  110\n",
      "Peach cobbler                                                  103\n",
      "Carrot cake                                                     72\n",
      "Fudge                                                           43\n",
      "Blondies                                                        16\n",
      "pie                                                             13\n",
      "Pie                                                             12\n",
      "pies                                                             6\n",
      "Pumpkin pie                                                      4\n",
      "pumpkin pie                                                      4\n",
      "chocolate cake                                                   3\n",
      "Pies                                                             3\n",
      "cake                                                             2\n",
      "Pumpkin Pie                                                      2\n",
      "Flan                                                             2\n",
      "Sparkling Apple Cider                                            1\n",
      "Pies and dream whip                                              1\n",
      "pumpkin and pecan pies                                           1\n",
      "Pie only                                                         1\n",
      "Fruit salad                                                      1\n",
      "Restaurant with various choices.                                 1\n",
      "Pecan pie                                                        1\n",
      "Berry cobbler                                                    1\n",
      "usually plus another non-pie desert                              1\n",
      "                                                              ... \n",
      "cheesecake.                                                      1\n",
      "Chocolate Cake                                                   1\n",
      "Pound Cake                                                       1\n",
      "pies above                                                       1\n",
      "Other bars                                                       1\n",
      "Triple Treat (butterscotch, cream cheese mix, and nut crust      1\n",
      "PIES                                                             1\n",
      "bread pudding                                                    1\n",
      "Some sort of chocolate dessert                                   1\n",
      "Choc cake                                                        1\n",
      "Lefse                                                            1\n",
      "THE PIE YOU JUST ASKED ABOUT.                                    1\n",
      "Pumpkin and pecan pie                                            1\n",
      "pie-spple & pecan                                                1\n",
      "Date balls                                                       1\n",
      "Pie, pumpkin                                                     1\n",
      "pies selected in previous question (apple, pumpkin)              1\n",
      "Pumpkin Chiffon Pie                                              1\n",
      "With pie listed above                                            1\n",
      "lemon cake                                                       1\n",
      "pumpkin bars                                                     1\n",
      "Whipped Cream for the pies                                       1\n",
      "Banana bread                                                     1\n",
      "Pound cake                                                       1\n",
      "Pumpkin log                                                      1\n",
      "Pumpkin pie.                                                     1\n",
      "German Chocolate cake                                            1\n",
      "Chocolate Cake with Marshmellows, Caremal Cake                   1\n",
      "Blueberry Cream Cheese Cake                                      1\n",
      "choc. cake                                                       1\n",
      "Length: 104, dtype: int64\n"
     ]
    }
   ],
   "source": [
    "dessert_columns_bool = data.columns.str.contains('dessert') #locating dessert columns\n",
    "dessert_data = data[data.columns[dessert_columns_bool]] #creating a series\n",
    "dessert_count = dessert_data.stack().value_counts()\n",
    "print(dessert_count)"
   ]
  },
  {
   "cell_type": "code",
   "execution_count": 61,
   "metadata": {},
   "outputs": [
    {
     "data": {
      "text/plain": [
       "<matplotlib.axes._subplots.AxesSubplot at 0x1f9f943ba58>"
      ]
     },
     "execution_count": 61,
     "metadata": {},
     "output_type": "execute_result"
    },
    {
     "data": {
      "image/png": "[encoded data removed]",
      "text/plain": [
       "<matplotlib.figure.Figure at 0x1f9f95d0550>"
      ]
     },
     "metadata": {},
     "output_type": "display_data"
    }
   ],
   "source": [
    "#creating a bar graph using value counts\n",
    "dessert_count_dropped = dessert_count.drop(['None', 'Other (please specify)'])\n",
    "dessert_count_dropped.head(10).sort_values(ascending=True).plot(kind='barh',\n",
    "                                                       grid=False, color='skyblue',\n",
    "                                                        figsize=(8,6),\n",
    "                                                       title='Top 10 Desserts')"
   ]
  },
  {
   "cell_type": "markdown",
   "metadata": {},
   "source": [
    "Of 1696 valid responses, 295 reported of not having a dessert. Otherwise, the list represents a typical list of desserts Americans would have at Thanksgiving."
   ]
  },
  {
   "cell_type": "code",
   "execution_count": 63,
   "metadata": {
    "scrolled": false
   },
   "outputs": [
    {
     "data": {
      "text/plain": [
       "Text(0.5,1,'Will you employer make you work on Black Friday?')"
      ]
     },
     "execution_count": 63,
     "metadata": {},
     "output_type": "execute_result"
    },
    {
     "data": {
      "image/png": "[encoded data removed]",
      "text/plain": [
       "<matplotlib.figure.Figure at 0x1f9f9422630>"
      ]
     },
     "metadata": {},
     "output_type": "display_data"
    }
   ],
   "source": [
    "#How many people had to work on Black Friday?\n",
    "work_data_columns = data.columns[data.columns.str.contains(\"Black Friday\")][1] #identifying work columns\n",
    "work_data = data[work_data_columns]\n",
    "work_data.value_counts().plot(kind='bar',\n",
    "                             grid=False, rot=360, color='skyblue',\n",
    "                             figsize=(8,6), fontsize=14)\n",
    "plt.title(work_data_columns, fontsize=16)"
   ]
  },
  {
   "cell_type": "code",
   "execution_count": 19,
   "metadata": {},
   "outputs": [
    {
     "name": "stdout",
     "output_type": "stream",
     "text": [
      "Yes              43\n",
      "No               20\n",
      "Doesn't apply     7\n",
      "Name: Will you employer make you work on Black Friday?, dtype: int64\n"
     ]
    }
   ],
   "source": [
    "print(work_data.value_counts())"
   ]
  },
  {
   "cell_type": "markdown",
   "metadata": {},
   "source": [
    "Among the people who responded that they celebrate Thanksgiving, 70 people provided with responses on if they work on Black Friday or not. 43 individuals said they were working on Black Friday, which was roughly 61%. 20 said they didn't have to work and 7 answered that the question didn't apply. It should be noted that a small amount of people responded to this question - 70 out of 980."
   ]
  },
  {
   "cell_type": "code",
   "execution_count": 20,
   "metadata": {},
   "outputs": [
    {
     "name": "stdout",
     "output_type": "stream",
     "text": [
      "Suburban    496\n",
      "Urban       236\n",
      "Rural       216\n",
      "Name: How would you describe where you live?, dtype: int64\n",
      "Suburban    0.523207\n",
      "Urban       0.248945\n",
      "Rural       0.227848\n",
      "Name: How would you describe where you live?, dtype: float64\n"
     ]
    }
   ],
   "source": [
    "#Finding regional patters in the dinner menus.\n",
    "regional_data = data['How would you describe where you live?']\n",
    "print(regional_data.value_counts())\n",
    "print(regional_data.value_counts(normalize=True))"
   ]
  },
  {
   "cell_type": "markdown",
   "metadata": {},
   "source": [
    "Here we can see that most of the respondents came from Suburban areas (52%), followed by Urban (25%) and Rural areas(23%)."
   ]
  }
 ],
 "metadata": {
  "kernelspec": {
   "display_name": "Python 3",
   "language": "python",
   "name": "python3"
  },
  "language_info": {
   "codemirror_mode": {
    "name": "ipython",
    "version": 3
   },
   "file_extension": ".py",
   "mimetype": "text/x-python",
   "name": "python",
   "nbconvert_exporter": "python",
   "pygments_lexer": "ipython3",
   "version": "3.6.4"
  }
 },
 "nbformat": 4,
 "nbformat_minor": 1
}
